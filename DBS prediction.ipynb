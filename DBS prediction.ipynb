{
 "cells": [
  {
   "cell_type": "code",
   "execution_count": 7,
   "id": "36cc6a54",
   "metadata": {},
   "outputs": [],
   "source": [
    "import pandas as pd"
   ]
  },
  {
   "cell_type": "code",
   "execution_count": 8,
   "id": "40d231ea",
   "metadata": {},
   "outputs": [],
   "source": [
    "df = pd.read_csv(\"DBS.csv\")"
   ]
  },
  {
   "cell_type": "code",
   "execution_count": 9,
   "id": "59df51d7",
   "metadata": {},
   "outputs": [],
   "source": [
    "X = df.loc[:,[\"SGD\"]]"
   ]
  },
  {
   "cell_type": "code",
   "execution_count": 10,
   "id": "dac98415",
   "metadata": {},
   "outputs": [],
   "source": [
    "Y = df.loc[:,[\"DBS\"]]"
   ]
  },
  {
   "cell_type": "code",
   "execution_count": 11,
   "id": "99f0912e",
   "metadata": {},
   "outputs": [
    {
     "data": {
      "text/plain": [
       "LinearRegression()"
      ]
     },
     "execution_count": 11,
     "metadata": {},
     "output_type": "execute_result"
    }
   ],
   "source": [
    "from sklearn import linear_model\n",
    "model = linear_model.LinearRegression()\n",
    "model.fit(X,Y)"
   ]
  },
  {
   "cell_type": "code",
   "execution_count": 12,
   "id": "ef6380f2",
   "metadata": {},
   "outputs": [
    {
     "data": {
      "text/plain": [
       "array([[-50.60094302]])"
      ]
     },
     "execution_count": 12,
     "metadata": {},
     "output_type": "execute_result"
    }
   ],
   "source": [
    "model.coef_"
   ]
  },
  {
   "cell_type": "code",
   "execution_count": 13,
   "id": "449df5d3",
   "metadata": {},
   "outputs": [
    {
     "data": {
      "text/plain": [
       "array([90.22858515])"
      ]
     },
     "execution_count": 13,
     "metadata": {},
     "output_type": "execute_result"
    }
   ],
   "source": [
    "model.intercept_"
   ]
  },
  {
   "cell_type": "code",
   "execution_count": 14,
   "id": "ba74e963",
   "metadata": {},
   "outputs": [],
   "source": [
    "import joblib"
   ]
  },
  {
   "cell_type": "code",
   "execution_count": 15,
   "id": "5778ffc6",
   "metadata": {},
   "outputs": [
    {
     "data": {
      "text/plain": [
       "['regression']"
      ]
     },
     "execution_count": 15,
     "metadata": {},
     "output_type": "execute_result"
    }
   ],
   "source": [
    "joblib.dump(model, \"regression\")"
   ]
  },
  {
   "cell_type": "code",
   "execution_count": null,
   "id": "0c0a6867",
   "metadata": {},
   "outputs": [],
   "source": []
  }
 ],
 "metadata": {
  "kernelspec": {
   "display_name": "Python 3 (ipykernel)",
   "language": "python",
   "name": "python3"
  },
  "language_info": {
   "codemirror_mode": {
    "name": "ipython",
    "version": 3
   },
   "file_extension": ".py",
   "mimetype": "text/x-python",
   "name": "python",
   "nbconvert_exporter": "python",
   "pygments_lexer": "ipython3",
   "version": "3.9.12"
  }
 },
 "nbformat": 4,
 "nbformat_minor": 5
}
